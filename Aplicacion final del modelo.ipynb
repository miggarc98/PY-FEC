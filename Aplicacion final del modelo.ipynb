{
 "cells": [
  {
   "cell_type": "code",
   "execution_count": 1,
   "metadata": {
    "executionInfo": {
     "elapsed": 9381,
     "status": "ok",
     "timestamp": 1719963519460,
     "user": {
      "displayName": "Miguel Garcia",
      "userId": "13151803748929424640"
     },
     "user_tz": 300
    },
    "id": "VEW-qNzoLUZZ"
   },
   "outputs": [
    {
     "name": "stdout",
     "output_type": "stream",
     "text": [
      "Python ejecutable: C:\\Users\\Pato\\AppData\\Local\\Microsoft\\WindowsApps\\PythonSoftwareFoundation.Python.3.11_qbz5n2kfra8p0\\python.exe\n",
      "Rutas actuales: ['C:\\\\Program Files\\\\WindowsApps\\\\PythonSoftwareFoundation.Python.3.11_3.11.2544.0_x64__qbz5n2kfra8p0\\\\python311.zip', 'C:\\\\Program Files\\\\WindowsApps\\\\PythonSoftwareFoundation.Python.3.11_3.11.2544.0_x64__qbz5n2kfra8p0\\\\DLLs', 'C:\\\\Program Files\\\\WindowsApps\\\\PythonSoftwareFoundation.Python.3.11_3.11.2544.0_x64__qbz5n2kfra8p0\\\\Lib', 'C:\\\\Program Files\\\\WindowsApps\\\\PythonSoftwareFoundation.Python.3.11_3.11.2544.0_x64__qbz5n2kfra8p0', '', 'C:\\\\Users\\\\Pato\\\\AppData\\\\Local\\\\Packages\\\\PythonSoftwareFoundation.Python.3.11_qbz5n2kfra8p0\\\\LocalCache\\\\local-packages\\\\Python311\\\\site-packages', 'C:\\\\Users\\\\Pato\\\\AppData\\\\Local\\\\Packages\\\\PythonSoftwareFoundation.Python.3.11_qbz5n2kfra8p0\\\\LocalCache\\\\local-packages\\\\Python311\\\\site-packages\\\\win32', 'C:\\\\Users\\\\Pato\\\\AppData\\\\Local\\\\Packages\\\\PythonSoftwareFoundation.Python.3.11_qbz5n2kfra8p0\\\\LocalCache\\\\local-packages\\\\Python311\\\\site-packages\\\\win32\\\\lib', 'C:\\\\Users\\\\Pato\\\\AppData\\\\Local\\\\Packages\\\\PythonSoftwareFoundation.Python.3.11_qbz5n2kfra8p0\\\\LocalCache\\\\local-packages\\\\Python311\\\\site-packages\\\\Pythonwin', 'C:\\\\Program Files\\\\WindowsApps\\\\PythonSoftwareFoundation.Python.3.11_3.11.2544.0_x64__qbz5n2kfra8p0\\\\Lib\\\\site-packages']\n",
      "Rutas actualizadas: ['C:\\\\Users\\\\Pato\\\\Desktop\\\\PROYECTO\\\\myenv\\\\Lib\\\\site-packages', 'C:\\\\Program Files\\\\WindowsApps\\\\PythonSoftwareFoundation.Python.3.11_3.11.2544.0_x64__qbz5n2kfra8p0\\\\python311.zip', 'C:\\\\Program Files\\\\WindowsApps\\\\PythonSoftwareFoundation.Python.3.11_3.11.2544.0_x64__qbz5n2kfra8p0\\\\DLLs', 'C:\\\\Program Files\\\\WindowsApps\\\\PythonSoftwareFoundation.Python.3.11_3.11.2544.0_x64__qbz5n2kfra8p0\\\\Lib', 'C:\\\\Program Files\\\\WindowsApps\\\\PythonSoftwareFoundation.Python.3.11_3.11.2544.0_x64__qbz5n2kfra8p0', '', 'C:\\\\Users\\\\Pato\\\\AppData\\\\Local\\\\Packages\\\\PythonSoftwareFoundation.Python.3.11_qbz5n2kfra8p0\\\\LocalCache\\\\local-packages\\\\Python311\\\\site-packages', 'C:\\\\Users\\\\Pato\\\\AppData\\\\Local\\\\Packages\\\\PythonSoftwareFoundation.Python.3.11_qbz5n2kfra8p0\\\\LocalCache\\\\local-packages\\\\Python311\\\\site-packages\\\\win32', 'C:\\\\Users\\\\Pato\\\\AppData\\\\Local\\\\Packages\\\\PythonSoftwareFoundation.Python.3.11_qbz5n2kfra8p0\\\\LocalCache\\\\local-packages\\\\Python311\\\\site-packages\\\\win32\\\\lib', 'C:\\\\Users\\\\Pato\\\\AppData\\\\Local\\\\Packages\\\\PythonSoftwareFoundation.Python.3.11_qbz5n2kfra8p0\\\\LocalCache\\\\local-packages\\\\Python311\\\\site-packages\\\\Pythonwin', 'C:\\\\Program Files\\\\WindowsApps\\\\PythonSoftwareFoundation.Python.3.11_3.11.2544.0_x64__qbz5n2kfra8p0\\\\Lib\\\\site-packages']\n"
     ]
    }
   ],
   "source": [
    "##Se ajustan las rutas donde python busca sus librerias.\n",
    "import sys\n",
    "\n",
    "# Mostrar la ubicación del intérprete de Python actual\n",
    "print(\"Python ejecutable:\", sys.executable)\n",
    "\n",
    "# Mostrar las rutas actuales donde Python busca los módulos\n",
    "print(\"Rutas actuales:\", sys.path)\n",
    "\n",
    "# Añadir una nueva ruta al principio de sys.path (antes de otras rutas existentes)\n",
    "sys.path.insert(0, 'C:\\\\Users\\\\Pato\\\\Desktop\\\\PROYECTO\\\\myenv\\\\Lib\\\\site-packages')\n",
    "\n",
    "# Mostrar las rutas actualizadas\n",
    "print(\"Rutas actualizadas:\", sys.path)\n",
    "\n",
    "# print(\"TensorFlow version:\", tf.__version__)"
   ]
  },
  {
   "cell_type": "code",
   "execution_count": 2,
   "metadata": {},
   "outputs": [],
   "source": [
    "from tensorflow.keras.applications.imagenet_utils import preprocess_input\n",
    "from tensorflow.keras.preprocessing.image import img_to_array\n",
    "from tensorflow.keras.models import load_model\n",
    "import numpy as np\n",
    "import imutils\n",
    "import cv2\n",
    "import time"
   ]
  },
  {
   "cell_type": "code",
   "execution_count": 3,
   "metadata": {},
   "outputs": [],
   "source": [
    "# Variables para calcular FPS\n",
    "time_actualframe = 0\n",
    "time_prevframe = 0\n",
    "\n",
    "# Tipos de emociones del detector se suben en el orden en que fue entrando el modelo \n",
    "classes = ['sadness', 'surprise', 'fear', 'anger', 'happiness', 'neutrality ', 'disgust', 'contempt']\n",
    "# Cargamos el  modelo de detección de rostros\n",
    "prototxtPath = r\"C:\\Users\\Pato\\Desktop\\PROYECTO\\face_detector\\deploy.prototxt\"\n",
    "weightsPath = r\"C:\\Users\\Pato\\Desktop\\PROYECTO\\face_detector\\res10_300x300_ssd_iter_140000.caffemodel\"\n",
    "faceNet = cv2.dnn.readNet(prototxtPath, weightsPath)\n",
    "\n",
    "# Carga el detector de clasificación de emociones\n",
    "emotionModel = load_model(\"model_1_224.keras\")"
   ]
  },
  {
   "cell_type": "code",
   "execution_count": null,
   "metadata": {},
   "outputs": [],
   "source": [
    "#Codigo para probar la camara en local\n",
    "# import cv2\n",
    "\n",
    "# # Intenta con diferentes índices de cámara si es necesario\n",
    "# cam = cv2.VideoCapture(0, cv2.CAP_DSHOW)\n",
    "\n",
    "# if not cam.isOpened():\n",
    "#     print(\"No se pudo abrir la cámara.\")\n",
    "# else:\n",
    "#     while True:\n",
    "#         ret, frame = cam.read()\n",
    "#         if not ret:\n",
    "#             print(\"No se pudo capturar el frame. Verifica la cámara.\")\n",
    "#             break\n",
    "\n",
    "#         cv2.imshow(\"Frame\", frame)\n",
    "#         if cv2.waitKey(1) & 0xFF == ord('q'):\n",
    "#             break\n",
    "\n",
    "#     cv2.destroyAllWindows()\n",
    "#     cam.release()\n"
   ]
  },
  {
   "cell_type": "code",
   "execution_count": 5,
   "metadata": {},
   "outputs": [],
   "source": [
    "import cv2\n",
    "def predict_emotion(frame,faceNet,emotionModel):\n",
    "\t# Construye un blob de la imagen\n",
    "\tblob = cv2.dnn.blobFromImage(frame, 1.0, (224, 224),(104.0, 177.0, 123.0))\n",
    "\n",
    "\t# Realiza las detecciones de rostros a partir de la imagen\n",
    "\tfaceNet.setInput(blob)\n",
    "\tdetections = faceNet.forward()\n",
    "\n",
    "\t# Listas para guardar rostros, ubicaciones y predicciones\n",
    "\tfaces = []\n",
    "\tlocs = []\n",
    "\tpreds = []\n",
    "\t\n",
    "\t# Recorre cada una de las detecciones\n",
    "\tfor i in range(0, detections.shape[2]):\n",
    "\t\t\n",
    "\t\t# Fija un umbral para determinar que la detección es confiable\n",
    "\t\t# Tomando la probabilidad asociada en la deteccion\n",
    "\n",
    "\t\tif detections[0, 0, i, 2] > 0.4:\n",
    "\t\t\t# Toma el bounding box de la detección escalado\n",
    "\t\t\t# de acuerdo a las dimensiones de la imagen\n",
    "\t\t\tbox = detections[0, 0, i, 3:7] * np.array([frame.shape[1], frame.shape[0], frame.shape[1], frame.shape[0]])\n",
    "\t\t\t(Xi, Yi, Xf, Yf) = box.astype(\"int\")\n",
    "\n",
    "\t\t\t# Valida las dimensiones del bounding box\n",
    "\t\t\tif Xi < 0: Xi = 0\n",
    "\t\t\tif Yi < 0: Yi = 0\n",
    "\t\t\t\n",
    "\t\t\t# Se extrae el rostro y se convierte BGR a GRAY\n",
    "\t\t\t# Finalmente se escala a 224x244\n",
    "\t\t\tface = frame[Yi:Yf, Xi:Xf]\n",
    "\t\t\tface = cv2.cvtColor(face, cv2.COLOR_BGR2GRAY)\n",
    "\t\t\tface = cv2.resize(face, (224, 224))\n",
    "\t\t\tface2 = img_to_array(face)\n",
    "\t\t\tface2 = np.expand_dims(face2,axis=0)\n",
    "\n",
    "\t\t\t# Se agrega los rostros y las localizaciones a las listas\n",
    "\t\t\tfaces.append(face2)\n",
    "\t\t\tlocs.append((Xi, Yi, Xf, Yf))\n",
    "\n",
    "\t\t\tpred = emotionModel.predict(face2)\n",
    "\t\t\tpreds.append(pred[0])\n",
    "\n",
    "\treturn (locs,preds)"
   ]
  },
  {
   "cell_type": "code",
   "execution_count": 7,
   "metadata": {},
   "outputs": [
    {
     "ename": "AttributeError",
     "evalue": "'NoneType' object has no attribute 'shape'",
     "output_type": "error",
     "traceback": [
      "\u001b[1;31m---------------------------------------------------------------------------\u001b[0m",
      "\u001b[1;31mAttributeError\u001b[0m                            Traceback (most recent call last)",
      "Cell \u001b[1;32mIn[7], line 11\u001b[0m\n\u001b[0;32m      8\u001b[0m \u001b[38;5;28;01mwhile\u001b[39;00m \u001b[38;5;28;01mTrue\u001b[39;00m:\n\u001b[0;32m      9\u001b[0m \t\u001b[38;5;66;03m# Se toma un frame de la cámara y se redimensiona\u001b[39;00m\n\u001b[0;32m     10\u001b[0m \tret, frame \u001b[38;5;241m=\u001b[39m cam\u001b[38;5;241m.\u001b[39mread()\n\u001b[1;32m---> 11\u001b[0m \tframe \u001b[38;5;241m=\u001b[39m \u001b[43mimutils\u001b[49m\u001b[38;5;241;43m.\u001b[39;49m\u001b[43mresize\u001b[49m\u001b[43m(\u001b[49m\u001b[43mframe\u001b[49m\u001b[43m,\u001b[49m\u001b[43m \u001b[49m\u001b[43mwidth\u001b[49m\u001b[38;5;241;43m=\u001b[39;49m\u001b[38;5;241;43m640\u001b[39;49m\u001b[43m)\u001b[49m\n\u001b[0;32m     13\u001b[0m \t(locs, preds) \u001b[38;5;241m=\u001b[39m predict_emotion(frame,faceNet,emotionModel)\n\u001b[0;32m     15\u001b[0m \t\u001b[38;5;66;03m# Para cada hallazgo se dibuja en la imagen el bounding box y la clase\u001b[39;00m\n",
      "File \u001b[1;32m~\\Desktop\\PROYECTO\\myenv\\Lib\\site-packages\\imutils\\convenience.py:69\u001b[0m, in \u001b[0;36mresize\u001b[1;34m(image, width, height, inter)\u001b[0m\n\u001b[0;32m     65\u001b[0m \u001b[38;5;28;01mdef\u001b[39;00m \u001b[38;5;21mresize\u001b[39m(image, width\u001b[38;5;241m=\u001b[39m\u001b[38;5;28;01mNone\u001b[39;00m, height\u001b[38;5;241m=\u001b[39m\u001b[38;5;28;01mNone\u001b[39;00m, inter\u001b[38;5;241m=\u001b[39mcv2\u001b[38;5;241m.\u001b[39mINTER_AREA):\n\u001b[0;32m     66\u001b[0m     \u001b[38;5;66;03m# initialize the dimensions of the image to be resized and\u001b[39;00m\n\u001b[0;32m     67\u001b[0m     \u001b[38;5;66;03m# grab the image size\u001b[39;00m\n\u001b[0;32m     68\u001b[0m     dim \u001b[38;5;241m=\u001b[39m \u001b[38;5;28;01mNone\u001b[39;00m\n\u001b[1;32m---> 69\u001b[0m     (h, w) \u001b[38;5;241m=\u001b[39m \u001b[43mimage\u001b[49m\u001b[38;5;241;43m.\u001b[39;49m\u001b[43mshape\u001b[49m[:\u001b[38;5;241m2\u001b[39m]\n\u001b[0;32m     71\u001b[0m     \u001b[38;5;66;03m# if both the width and height are None, then return the\u001b[39;00m\n\u001b[0;32m     72\u001b[0m     \u001b[38;5;66;03m# original image\u001b[39;00m\n\u001b[0;32m     73\u001b[0m     \u001b[38;5;28;01mif\u001b[39;00m width \u001b[38;5;129;01mis\u001b[39;00m \u001b[38;5;28;01mNone\u001b[39;00m \u001b[38;5;129;01mand\u001b[39;00m height \u001b[38;5;129;01mis\u001b[39;00m \u001b[38;5;28;01mNone\u001b[39;00m:\n",
      "\u001b[1;31mAttributeError\u001b[0m: 'NoneType' object has no attribute 'shape'"
     ]
    }
   ],
   "source": [
    "\n",
    "import cv2\n",
    "\n",
    "# Intenta con diferentes índices de cámara si es necesario\n",
    "cam = cv2.VideoCapture(0, cv2.CAP_DSHOW)\n",
    "# Toma la imagen, los modelos de detección de rostros y mascarillas \n",
    "# Retorna las localizaciones de los rostros y las predicciones de emociones de cada rostro\n",
    "time_prevframe = time.time()\n",
    "while True:\n",
    "\t# Se toma un frame de la cámara y se redimensiona\n",
    "\tret, frame = cam.read()\n",
    "\tframe = imutils.resize(frame, width=640)\n",
    "\n",
    "\t(locs, preds) = predict_emotion(frame,faceNet,emotionModel)\n",
    "\t\n",
    "\t# Para cada hallazgo se dibuja en la imagen el bounding box y la clase\n",
    "\tfor (box, pred) in zip(locs, preds):\n",
    "\t\t\n",
    "\t\t(Xi, Yi, Xf, Yf) = box\n",
    "\t\t#respetar el orden ennque se entreno el modelo\n",
    "\t\t(sadness,happiness,fear,neutrality,surprise,anger,disgust,contempt) = pred\n",
    "\t\tlabel = ''\n",
    "\t\t# Se agrega la probabilidad en el label de la imagen\n",
    "\t\tlabel = \"{}: {:.0f}%\".format(classes[np.argmax(pred)], max(sadness,happiness,fear,neutrality,surprise,anger,disgust,contempt)  * 100)\n",
    "\n",
    "\t\t#hace parte del codigo que dibuja el recuadro  \n",
    "\t\tcv2.rectangle(frame, (Xi, Yi-40), (Xf, Yi), (64, 176, 98), -1)\n",
    "\t\tcv2.putText(frame, label, (Xi+5, Yi-15),cv2.FONT_HERSHEY_SIMPLEX, 0.8, (0,255,0), 2)\n",
    "\t\tcv2.rectangle(frame, (Xi, Yi), (Xf, Yf), (64, 176, 98), 3)\n",
    "\n",
    "\n",
    "\ttime_actualframe = time.time()\n",
    "\tif time_actualframe>time_prevframe:\n",
    "\t\tfps = 1/(time_actualframe-time_prevframe)\n",
    "\t\n",
    "\ttime_prevframe = time_actualframe\n",
    "\tcv2.imshow(\"Frame\", frame)\n",
    "\tcv2.putText(frame, str(int(fps))+\" FPS\", (5, 30), cv2.FONT_HERSHEY_SIMPLEX, 1, (255, 0, 0), 3, cv2.LINE_AA)\n",
    "\n",
    "\t# comando con la letra Q para cerrar la camara y ejecucion del codigo\n",
    "\tif cv2.waitKey(1) & 0xFF == ord('q'):\n",
    "\t\t break\n",
    "\n",
    "cv2.destroyAllWindows()\n",
    "cam.release()\n",
    "\n",
    "#los errores que se dibujan al final de la salida se deben a que cuando la ejecucion por algun motivo falla que lo suele hacer\n",
    "# preveo que son problemas de optimizacion que aveces el proceso se cae y falla."
   ]
  }
 ],
 "metadata": {
  "colab": {
   "authorship_tag": "ABX9TyPVPeQ1hhZGNzLbIfx9JmeS",
   "mount_file_id": "1I61jcCTcvKqrEWc0GiBSQ_uBfsSHu_to",
   "provenance": []
  },
  "kernelspec": {
   "display_name": "Python 3",
   "language": "python",
   "name": "python3"
  },
  "language_info": {
   "codemirror_mode": {
    "name": "ipython",
    "version": 3
   },
   "file_extension": ".py",
   "mimetype": "text/x-python",
   "name": "python",
   "nbconvert_exporter": "python",
   "pygments_lexer": "ipython3",
   "version": "3.11.9"
  }
 },
 "nbformat": 4,
 "nbformat_minor": 0
}
